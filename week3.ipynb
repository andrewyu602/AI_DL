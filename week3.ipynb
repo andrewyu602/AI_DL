{
  "nbformat": 4,
  "nbformat_minor": 0,
  "metadata": {
    "colab": {
      "provenance": [],
      "gpuType": "T4",
      "authorship_tag": "ABX9TyMzkjXzUlcTBDMjVE8i898X",
      "include_colab_link": true
    },
    "kernelspec": {
      "name": "python3",
      "display_name": "Python 3"
    },
    "language_info": {
      "name": "python"
    },
    "accelerator": "GPU"
  },
  "cells": [
    {
      "cell_type": "markdown",
      "metadata": {
        "id": "view-in-github",
        "colab_type": "text"
      },
      "source": [
        "<a href=\"https://colab.research.google.com/github/andrewyu602/AI_DL/blob/main/week3.ipynb\" target=\"_parent\"><img src=\"https://colab.research.google.com/assets/colab-badge.svg\" alt=\"Open In Colab\"/></a>"
      ]
    },
    {
      "cell_type": "markdown",
      "source": [
        "# Questions 1."
      ],
      "metadata": {
        "id": "rJ-qCgaTRftY"
      }
    },
    {
      "cell_type": "code",
      "execution_count": 12,
      "metadata": {
        "id": "rICV6psaPSJs"
      },
      "outputs": [],
      "source": [
        "def naive_relu(x):\n",
        "    assert len(x.shape) == 2\n",
        "    x = x.copy()\n",
        "    for i in range(x.shape[0]):\n",
        "        for j in range(x.shape[1]):\n",
        "            x[i, j] = max(x[i, j], 0)\n",
        "    return x"
      ]
    },
    {
      "cell_type": "code",
      "source": [
        "def naive_add(x, y):\n",
        "    assert len(x.shape) == 2\n",
        "    assert x.shape == y.shape\n",
        "    x = x.copy()\n",
        "    for i in range(x.shape[0]):\n",
        "        for j in range(x.shape[1]):\n",
        "            x[i, j] += y[i, j]\n",
        "    return x"
      ],
      "metadata": {
        "id": "rKT2jo8FR4b8"
      },
      "execution_count": 13,
      "outputs": []
    },
    {
      "cell_type": "code",
      "source": [
        "import numpy as np\n",
        "ab = np.ones((2,2))\n",
        "ab[0,0] = 5\n",
        "ab[1,1] = -1\n",
        "ab"
      ],
      "metadata": {
        "colab": {
          "base_uri": "https://localhost:8080/"
        },
        "id": "gNKf1GJPPzQh",
        "outputId": "d9542d74-2eae-4656-ecd4-b4c5844748cd"
      },
      "execution_count": 14,
      "outputs": [
        {
          "output_type": "execute_result",
          "data": {
            "text/plain": [
              "array([[ 5.,  1.],\n",
              "       [ 1., -1.]])"
            ]
          },
          "metadata": {},
          "execution_count": 14
        }
      ]
    },
    {
      "cell_type": "code",
      "source": [
        "naive_relu(ab)"
      ],
      "metadata": {
        "colab": {
          "base_uri": "https://localhost:8080/"
        },
        "id": "L2AEiP4vTZbG",
        "outputId": "20b3c82b-a79c-43b9-f8fb-1ffdabaa4d37"
      },
      "execution_count": 19,
      "outputs": [
        {
          "output_type": "execute_result",
          "data": {
            "text/plain": [
              "array([[5., 1.],\n",
              "       [1., 0.]])"
            ]
          },
          "metadata": {},
          "execution_count": 19
        }
      ]
    },
    {
      "cell_type": "code",
      "source": [
        "bb = np.ones((2,2))\n",
        "bb[1,1] = 0\n",
        "bb"
      ],
      "metadata": {
        "colab": {
          "base_uri": "https://localhost:8080/"
        },
        "id": "n_4OQRDYQhUZ",
        "outputId": "187377c7-e447-4a1f-d5c6-21cddc5f794f"
      },
      "execution_count": 15,
      "outputs": [
        {
          "output_type": "execute_result",
          "data": {
            "text/plain": [
              "array([[1., 1.],\n",
              "       [1., 0.]])"
            ]
          },
          "metadata": {},
          "execution_count": 15
        }
      ]
    },
    {
      "cell_type": "code",
      "source": [
        "ab + bb"
      ],
      "metadata": {
        "colab": {
          "base_uri": "https://localhost:8080/"
        },
        "id": "f3_43OpaQn0m",
        "outputId": "b788ad86-ece7-4531-8b1f-00148c7ede9b"
      },
      "execution_count": 16,
      "outputs": [
        {
          "output_type": "execute_result",
          "data": {
            "text/plain": [
              "array([[ 6.,  2.],\n",
              "       [ 2., -1.]])"
            ]
          },
          "metadata": {},
          "execution_count": 16
        }
      ]
    },
    {
      "cell_type": "code",
      "source": [
        "c = naive_add(ab, bb)"
      ],
      "metadata": {
        "id": "7UplBm8fQokM"
      },
      "execution_count": 17,
      "outputs": []
    },
    {
      "cell_type": "code",
      "source": [
        "naive_relu(c)"
      ],
      "metadata": {
        "colab": {
          "base_uri": "https://localhost:8080/"
        },
        "id": "CtN9a6u9SUJW",
        "outputId": "f825bd1d-232e-4da6-932e-34b43ce5cb51"
      },
      "execution_count": 18,
      "outputs": [
        {
          "output_type": "execute_result",
          "data": {
            "text/plain": [
              "array([[6., 2.],\n",
              "       [2., 0.]])"
            ]
          },
          "metadata": {},
          "execution_count": 18
        }
      ]
    },
    {
      "cell_type": "code",
      "source": [
        "import time\n",
        "\n",
        "x = np.random.random((20, 100))\n",
        "y = np.random.random((20, 100))\n",
        "\n",
        "t0 = time.time()\n",
        "for _ in range(1000):\n",
        "    z = x + y\n",
        "    z = np.maximum(z, 0.)\n",
        "print(\"Took: {0:.2f} s\".format(time.time() - t0))"
      ],
      "metadata": {
        "colab": {
          "base_uri": "https://localhost:8080/"
        },
        "id": "0CroNiv6ShOi",
        "outputId": "952f65d8-fcff-4d7d-b5dc-640ada781f2e"
      },
      "execution_count": 8,
      "outputs": [
        {
          "output_type": "stream",
          "name": "stdout",
          "text": [
            "Took: 0.01 s\n"
          ]
        }
      ]
    },
    {
      "cell_type": "code",
      "source": [
        "t0 = time.time()\n",
        "for _ in range(1000):\n",
        "    z = naive_add(x, y)\n",
        "    z = naive_relu(z)\n",
        "print(\"Took: {0:.2f} s\".format(time.time() - t0))"
      ],
      "metadata": {
        "colab": {
          "base_uri": "https://localhost:8080/"
        },
        "id": "3Z1WfiPvSjMT",
        "outputId": "e41476a5-e5ed-4fc0-9c74-22474e832446"
      },
      "execution_count": 9,
      "outputs": [
        {
          "output_type": "stream",
          "name": "stdout",
          "text": [
            "Took: 2.52 s\n"
          ]
        }
      ]
    },
    {
      "cell_type": "markdown",
      "source": [
        "# Questions 2\n",
        "\n",
        ": it is because without using .copy, the actual data, which is used as the input of the function, is changed.\n",
        "\n",
        ": To prevent the actual data"
      ],
      "metadata": {
        "id": "2Tu8zNYKRltx"
      }
    },
    {
      "cell_type": "markdown",
      "source": [
        "# Questions 3\n",
        "\n",
        ": naive version of the code is slower because it utilizes the loop while np.maximum calculates through vectorization."
      ],
      "metadata": {
        "id": "EO_f6ajXTs8G"
      }
    },
    {
      "cell_type": "markdown",
      "source": [
        "# Questions 4"
      ],
      "metadata": {
        "id": "JqJ2YK8TUmD5"
      }
    },
    {
      "cell_type": "code",
      "source": [
        "import numpy as np\n",
        "X = np.random.random((32, 10))\n",
        "y = np.random.random((10,))"
      ],
      "metadata": {
        "id": "XfQfC_DqRoTb"
      },
      "execution_count": 20,
      "outputs": []
    },
    {
      "cell_type": "code",
      "source": [
        "X.shape"
      ],
      "metadata": {
        "colab": {
          "base_uri": "https://localhost:8080/"
        },
        "id": "wqXU_zjVUoNW",
        "outputId": "7dc9beca-9f29-4b37-ce25-52bcac8ff510"
      },
      "execution_count": 21,
      "outputs": [
        {
          "output_type": "execute_result",
          "data": {
            "text/plain": [
              "(32, 10)"
            ]
          },
          "metadata": {},
          "execution_count": 21
        }
      ]
    },
    {
      "cell_type": "code",
      "source": [
        "y.shape"
      ],
      "metadata": {
        "colab": {
          "base_uri": "https://localhost:8080/"
        },
        "id": "lBj1mIFzUp4N",
        "outputId": "a169c323-6934-43c1-fa96-95bcdffcb625"
      },
      "execution_count": 22,
      "outputs": [
        {
          "output_type": "execute_result",
          "data": {
            "text/plain": [
              "(10,)"
            ]
          },
          "metadata": {},
          "execution_count": 22
        }
      ]
    },
    {
      "cell_type": "code",
      "source": [
        "X + y"
      ],
      "metadata": {
        "colab": {
          "base_uri": "https://localhost:8080/"
        },
        "id": "DvopKo-lUqxI",
        "outputId": "9557e3db-d297-4150-91c9-4c5171216701"
      },
      "execution_count": 23,
      "outputs": [
        {
          "output_type": "execute_result",
          "data": {
            "text/plain": [
              "array([[1.17825447, 1.5204434 , 0.98074448, 1.16248373, 0.45765502,\n",
              "        0.74480841, 1.37219831, 0.40704592, 0.5948741 , 0.90141034],\n",
              "       [1.07013865, 0.84694728, 1.00466291, 0.5591615 , 0.73429737,\n",
              "        1.01030453, 1.50561924, 0.41658531, 0.51386158, 0.95876238],\n",
              "       [1.0797856 , 1.15632116, 1.75177719, 1.13312437, 0.43806594,\n",
              "        1.15296168, 1.4503682 , 0.79401095, 0.60224659, 0.99873733],\n",
              "       [1.21804921, 1.11676866, 0.89084253, 0.93236084, 0.70002179,\n",
              "        1.42204905, 1.39401294, 0.96829639, 0.06888455, 1.05951342],\n",
              "       [0.52803584, 0.57639442, 1.8429411 , 0.76815931, 0.45765261,\n",
              "        1.45415898, 1.06996839, 0.83285646, 0.52284532, 0.67465764],\n",
              "       [1.23219737, 1.23790764, 1.55805879, 0.59814444, 1.23602904,\n",
              "        1.11854465, 1.07720227, 1.06835524, 0.74648765, 1.03560535],\n",
              "       [0.6542007 , 1.46120847, 1.2885278 , 0.51148725, 0.67642593,\n",
              "        1.29432647, 1.27718194, 0.43526474, 0.49239508, 1.14441646],\n",
              "       [0.38321183, 0.91045327, 1.6366132 , 0.34177948, 0.59665391,\n",
              "        1.17125389, 1.42201355, 0.18442558, 0.07489842, 0.70091887],\n",
              "       [0.48448322, 0.74731256, 1.4228649 , 0.31280464, 0.32044859,\n",
              "        1.54197127, 1.29705284, 0.68305287, 0.32365892, 1.55714943],\n",
              "       [0.91458798, 1.00419188, 1.08958982, 0.73782601, 0.84663101,\n",
              "        1.16366831, 0.60664904, 1.00811741, 0.15807126, 1.04568849],\n",
              "       [1.34888299, 0.89497106, 1.42472465, 0.49487204, 0.60033169,\n",
              "        0.78322046, 0.84746719, 0.60095363, 1.02990609, 1.35187383],\n",
              "       [0.61034158, 0.71791606, 1.77571163, 0.93941578, 0.26342617,\n",
              "        1.63765989, 1.09589291, 0.35327492, 0.12014169, 0.64298212],\n",
              "       [0.7360317 , 1.50513353, 1.10278894, 0.92017366, 0.98316767,\n",
              "        0.93686584, 0.75874841, 0.5459066 , 0.33380124, 0.78290966],\n",
              "       [0.9334731 , 1.3076453 , 1.65918345, 0.43971687, 0.88659271,\n",
              "        1.67595311, 1.15199126, 1.02566466, 0.881791  , 1.28740078],\n",
              "       [1.32171269, 0.693194  , 0.92618746, 0.86612696, 1.04352374,\n",
              "        1.41600775, 1.3322439 , 0.09003815, 0.38689036, 1.25148219],\n",
              "       [0.80172253, 0.96628177, 1.06426867, 0.62307406, 0.58953248,\n",
              "        1.0568809 , 1.07931187, 0.34545645, 0.21762446, 1.42504338],\n",
              "       [0.63294593, 1.01855833, 1.64684147, 0.72833024, 1.24269109,\n",
              "        1.61434833, 1.23965378, 0.2025271 , 0.63648657, 1.35953925],\n",
              "       [1.25128773, 1.07593192, 1.54204752, 1.26862406, 1.14061513,\n",
              "        0.94765739, 0.8080109 , 0.49240865, 0.26522233, 0.87273205],\n",
              "       [1.14790907, 1.169233  , 1.39988794, 1.16521924, 0.91336013,\n",
              "        1.10396945, 1.1426962 , 0.82308799, 0.53287874, 1.2188655 ],\n",
              "       [0.82869532, 1.30955237, 1.62764955, 0.29702348, 1.2329396 ,\n",
              "        1.48751369, 0.91503379, 0.8137388 , 0.81733516, 0.96151198],\n",
              "       [0.42079603, 1.49272174, 1.21589339, 1.00968981, 0.40519155,\n",
              "        0.9128643 , 1.3884727 , 0.67009017, 0.44427718, 1.55022566],\n",
              "       [0.88210471, 0.65187717, 1.60268302, 0.73937978, 0.70141875,\n",
              "        1.14375813, 1.06110324, 0.5309553 , 0.43373785, 1.49918932],\n",
              "       [1.17913993, 1.25539186, 0.99652386, 0.34015303, 0.90987988,\n",
              "        1.11339363, 0.84752083, 0.35152321, 0.79384445, 1.49583186],\n",
              "       [1.17651145, 1.04825366, 1.19290311, 1.21731522, 0.59641359,\n",
              "        0.99740639, 1.34461307, 0.47723795, 0.4457117 , 0.91739789],\n",
              "       [1.30362923, 0.76700361, 1.23884851, 1.13073558, 0.27931029,\n",
              "        0.79834695, 0.96407175, 1.04133867, 0.16897295, 0.82392952],\n",
              "       [0.81946205, 1.34571846, 1.63384888, 1.06360224, 0.45169438,\n",
              "        1.15007662, 0.67115866, 0.11098087, 0.18326367, 1.14858007],\n",
              "       [0.53564026, 0.66241798, 1.79509363, 0.59250992, 0.58026557,\n",
              "        0.97066359, 0.66848529, 1.06478147, 0.40093274, 1.07321363],\n",
              "       [0.84250525, 1.06736878, 1.7423795 , 0.91235211, 1.02168104,\n",
              "        0.91650317, 0.6429661 , 1.00355168, 0.61857314, 0.99695807],\n",
              "       [1.03435486, 0.99717297, 1.37989348, 0.67792149, 0.82631863,\n",
              "        1.58065961, 1.3740219 , 0.39530959, 0.34936529, 1.08095659],\n",
              "       [0.64139983, 1.23480455, 1.38888105, 0.68762041, 0.77541959,\n",
              "        0.98447118, 0.66822829, 0.24117754, 0.41927667, 1.5604899 ],\n",
              "       [0.68338723, 1.01924467, 1.64128562, 1.22560612, 0.98195762,\n",
              "        1.08738009, 0.83590044, 1.00523513, 0.81586733, 0.61017503],\n",
              "       [0.66551271, 1.13834456, 1.25394438, 0.29597149, 0.94547104,\n",
              "        1.56615167, 1.32818913, 0.228573  , 0.84184775, 1.52557446]])"
            ]
          },
          "metadata": {},
          "execution_count": 23
        }
      ]
    },
    {
      "cell_type": "code",
      "source": [
        "y = np.expand_dims(y, axis=0) # 행 벡터로 확장한 것"
      ],
      "metadata": {
        "id": "E9xfKiXwUr8T"
      },
      "execution_count": 25,
      "outputs": []
    },
    {
      "cell_type": "code",
      "source": [
        "y"
      ],
      "metadata": {
        "colab": {
          "base_uri": "https://localhost:8080/"
        },
        "id": "9Ge1HmK_Uvsg",
        "outputId": "d5e9982e-e7ea-4874-fe16-f9e74580362c"
      },
      "execution_count": 26,
      "outputs": [
        {
          "output_type": "execute_result",
          "data": {
            "text/plain": [
              "array([[[0.38074793, 0.54253696, 0.87382313, 0.28541317, 0.24665602,\n",
              "         0.73403827, 0.57252156, 0.08723326, 0.04842194, 0.56429318]]])"
            ]
          },
          "metadata": {},
          "execution_count": 26
        }
      ]
    },
    {
      "cell_type": "markdown",
      "source": [
        "# Questions 5"
      ],
      "metadata": {
        "id": "rlcpjTkMWXXR"
      }
    },
    {
      "cell_type": "code",
      "source": [],
      "metadata": {
        "id": "jbq623QsWUu5"
      },
      "execution_count": null,
      "outputs": []
    },
    {
      "cell_type": "markdown",
      "source": [
        "# Questions 6"
      ],
      "metadata": {
        "id": "s7ZH_dHjWY__"
      }
    },
    {
      "cell_type": "code",
      "source": [
        "import tensorflow as tf\n",
        "x = tf.Variable(0.)\n",
        "with tf.GradientTape() as tape:\n",
        "    y = 2 * x + 3\n",
        "grad_of_y_wrt_x = tape.gradient(y, x)"
      ],
      "metadata": {
        "id": "FRolPg99Wazn"
      },
      "execution_count": 27,
      "outputs": []
    },
    {
      "cell_type": "code",
      "source": [
        "grad_of_y_wrt_x"
      ],
      "metadata": {
        "colab": {
          "base_uri": "https://localhost:8080/"
        },
        "id": "hj9ICcq-WeBl",
        "outputId": "bf35bb18-0315-4187-c4f8-cf08b23a34d2"
      },
      "execution_count": 28,
      "outputs": [
        {
          "output_type": "execute_result",
          "data": {
            "text/plain": [
              "<tf.Tensor: shape=(), dtype=float32, numpy=2.0>"
            ]
          },
          "metadata": {},
          "execution_count": 28
        }
      ]
    },
    {
      "cell_type": "code",
      "source": [
        "x = tf.Variable(tf.random.uniform((2, 2)))\n",
        "with tf.GradientTape() as tape:\n",
        "    y = 2 * x + 3\n",
        "grad_of_y_wrt_x = tape.gradient(y, x)"
      ],
      "metadata": {
        "id": "LXqw7UQcWi1W"
      },
      "execution_count": 31,
      "outputs": []
    },
    {
      "cell_type": "code",
      "source": [
        "grad_of_y_wrt_x"
      ],
      "metadata": {
        "colab": {
          "base_uri": "https://localhost:8080/"
        },
        "id": "ytCXg_JNWn2P",
        "outputId": "b5eddad5-1895-4c4f-cb14-eb9d9ddc9f17"
      },
      "execution_count": 32,
      "outputs": [
        {
          "output_type": "execute_result",
          "data": {
            "text/plain": [
              "<tf.Tensor: shape=(2, 2), dtype=float32, numpy=\n",
              "array([[2., 2.],\n",
              "       [2., 2.]], dtype=float32)>"
            ]
          },
          "metadata": {},
          "execution_count": 32
        }
      ]
    },
    {
      "cell_type": "code",
      "source": [
        "W = tf.Variable(tf.random.uniform((2, 2)))\n",
        "b = tf.Variable(tf.zeros((2,)))\n",
        "x = tf.random.uniform((2, 2))\n",
        "with tf.GradientTape() as tape:\n",
        "    y = tf.matmul(x, W) + b\n",
        "grad_of_y_wrt_W_and_b = tape.gradient(y, [W, b])"
      ],
      "metadata": {
        "id": "U0KJieOnWonv"
      },
      "execution_count": 33,
      "outputs": []
    },
    {
      "cell_type": "code",
      "source": [
        "grad_of_y_wrt_W_and_b"
      ],
      "metadata": {
        "colab": {
          "base_uri": "https://localhost:8080/"
        },
        "id": "6mRYzRTMWxN7",
        "outputId": "f3a07e12-2086-4927-f5bf-45ee87ae0fe6"
      },
      "execution_count": 34,
      "outputs": [
        {
          "output_type": "execute_result",
          "data": {
            "text/plain": [
              "[<tf.Tensor: shape=(2, 2), dtype=float32, numpy=\n",
              " array([[0.23023415, 0.23023415],\n",
              "        [0.6326771 , 0.6326771 ]], dtype=float32)>,\n",
              " <tf.Tensor: shape=(2,), dtype=float32, numpy=array([2., 2.], dtype=float32)>]"
            ]
          },
          "metadata": {},
          "execution_count": 34
        }
      ]
    },
    {
      "cell_type": "code",
      "source": [
        "import tensorflow as tf\n",
        "\n",
        "x = tf.Variable(2.0)\n",
        "y = tf.Variable(1.0)\n",
        "\n",
        "with tf.GradientTape() as tape:\n",
        "    f = x**2 * y + x * y + 3 * y\n",
        "grad_x, grad_y = tape.gradient(f, [x,y])"
      ],
      "metadata": {
        "id": "EJO5hb7IWzQg"
      },
      "execution_count": 1,
      "outputs": []
    },
    {
      "cell_type": "code",
      "source": [
        "grad_x"
      ],
      "metadata": {
        "colab": {
          "base_uri": "https://localhost:8080/"
        },
        "id": "EkJQM98JbScS",
        "outputId": "46ca6034-dd3c-4437-c5ed-de331c13e402"
      },
      "execution_count": 2,
      "outputs": [
        {
          "output_type": "execute_result",
          "data": {
            "text/plain": [
              "<tf.Tensor: shape=(), dtype=float32, numpy=5.0>"
            ]
          },
          "metadata": {},
          "execution_count": 2
        }
      ]
    },
    {
      "cell_type": "code",
      "source": [
        "grad_y"
      ],
      "metadata": {
        "colab": {
          "base_uri": "https://localhost:8080/"
        },
        "id": "QiOQNyHiPFv8",
        "outputId": "5e3b4469-5875-40c1-bcaf-bf1a1ff5c743"
      },
      "execution_count": 3,
      "outputs": [
        {
          "output_type": "execute_result",
          "data": {
            "text/plain": [
              "<tf.Tensor: shape=(), dtype=float32, numpy=9.0>"
            ]
          },
          "metadata": {},
          "execution_count": 3
        }
      ]
    },
    {
      "cell_type": "code",
      "source": [],
      "metadata": {
        "id": "YQNi24UUPGnB"
      },
      "execution_count": null,
      "outputs": []
    }
  ]
}